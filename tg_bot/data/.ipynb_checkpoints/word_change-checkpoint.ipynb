{
 "cells": [
  {
   "cell_type": "code",
   "execution_count": 1,
   "id": "5c2bb30c",
   "metadata": {},
   "outputs": [],
   "source": [
    "import gensim\n",
    "import logging\n",
    "import urllib.request\n",
    "\n",
    "import warnings\n",
    "warnings.filterwarnings('ignore')"
   ]
  },
  {
   "cell_type": "code",
   "execution_count": 2,
   "id": "45cb534d",
   "metadata": {
    "scrolled": true
   },
   "outputs": [
    {
     "data": {
      "text/plain": [
       "('ruscorpora_mystem_cbow_300_2_2015.bin.gz',\n",
       " <http.client.HTTPMessage at 0x7feca79b31c0>)"
      ]
     },
     "execution_count": 2,
     "metadata": {},
     "output_type": "execute_result"
    }
   ],
   "source": [
    "urllib.request.urlretrieve(\"http://rusvectores.org/static/models/rusvectores2/ruscorpora_mystem_cbow_300_2_2015.bin.gz\", \"ruscorpora_mystem_cbow_300_2_2015.bin.gz\")"
   ]
  },
  {
   "cell_type": "code",
   "execution_count": 3,
   "id": "9e02e117",
   "metadata": {},
   "outputs": [],
   "source": [
    "m = 'ruscorpora_mystem_cbow_300_2_2015.bin.gz'\n",
    "model = gensim.models.KeyedVectors.load_word2vec_format(m, binary=True, )"
   ]
  },
  {
   "cell_type": "code",
   "execution_count": 81,
   "id": "65b4be8d",
   "metadata": {},
   "outputs": [
    {
     "name": "stdout",
     "output_type": "stream",
     "text": [
      "[('сытно_ADV', 0.5945727229118347), ('вкусный_A', 0.5699702501296997), ('аппетитно_ADV', 0.5563291311264038), ('невкусно_ADV', 0.5039675235748291), ('мило_ADV', 0.45837634801864624), ('душисто_ADV', 0.4574586749076843), ('красиво_ADV', 0.44614872336387634), ('аппетитный_A', 0.439291387796402), ('невкусный_A', 0.43646240234375), ('шикарно_ADV', 0.4256807565689087)]\n"
     ]
    }
   ],
   "source": [
    "print(model.most_similar('вкусно_ADV'))"
   ]
  },
  {
   "cell_type": "code",
   "execution_count": 106,
   "id": "677e0f50",
   "metadata": {},
   "outputs": [],
   "source": [
    "sentence = 'Как же вкусно я навернула жареной, картошки сегодня поздно'"
   ]
  },
  {
   "cell_type": "code",
   "execution_count": 93,
   "id": "886c0306",
   "metadata": {},
   "outputs": [],
   "source": [
    "from pymorphy2 import MorphAnalyzer\n",
    "from nltk import word_tokenize\n",
    "morph = MorphAnalyzer()"
   ]
  },
  {
   "cell_type": "code",
   "execution_count": 107,
   "id": "2bef33f6",
   "metadata": {},
   "outputs": [],
   "source": [
    "sentence_tok = [w.lower() for w in word_tokenize(sentence)]"
   ]
  },
  {
   "cell_type": "code",
   "execution_count": 108,
   "id": "f2ac1a2b",
   "metadata": {},
   "outputs": [
    {
     "name": "stdout",
     "output_type": "stream",
     "text": [
      "['как', 'же', 'вкусно', 'я', 'навернула', 'жареной', ',', 'картошки', 'сегодня', 'поздно']\n",
      "Parse(word='вкусно', tag=OpencorporaTag('ADVB'), normal_form='вкусно', score=0.5, methods_stack=((DictionaryAnalyzer(), 'вкусно', 3, 0),))\n"
     ]
    }
   ],
   "source": [
    "print(sentence_tok)\n",
    "print(morph.parse('вкусно')[0])"
   ]
  },
  {
   "cell_type": "code",
   "execution_count": 109,
   "id": "8d14cc8d",
   "metadata": {},
   "outputs": [
    {
     "name": "stdout",
     "output_type": "stream",
     "text": [
      "сытно_ADV\n",
      "вчера_ADV\n",
      "рано_ADV\n",
      "['как', 'же', 'сытно', 'я', 'навернула', 'жареной', ',', 'картошечки', 'вчера', 'рано']\n"
     ]
    }
   ],
   "source": [
    "for i in range(len(sentence_tok)):\n",
    "    a = morph.parse(sentence_tok[i])[0]\n",
    "    value_dict = {}\n",
    "    value_dict[i] = [a.tag.POS, a.tag.tense, a.tag.case]\n",
    "    if value_dict[i][0] == 'NOUN':\n",
    "        similar = model.most_similar(a.normal_form+'_S')[0][0]\n",
    "        similar = similar.split('_')[0]\n",
    "        sentence_tok[i] = morph.parse(similar)[0].inflect({value_dict[i][2]}).word\n",
    "#     if value_dict[i][0] == 'VERB':\n",
    "#         print(value_dict[i])\n",
    "#         similar = model.most_similar(a.normal_form+'_V')[0][0]\n",
    "#         similar = similar.split('_')[0]\n",
    "#         sentence_tok[i] = morph.parse(similar)[0].inflect({value_dict[i][1]}).word\n",
    "#         print(similar)\n",
    "    if value_dict[i][0] == 'ADVB':\n",
    "        similar = model.most_similar(a.normal_form+'_ADV')[0][0]\n",
    "        print(similar)\n",
    "        similar = similar.split('_')[0]\n",
    "        sentence_tok[i] = morph.parse(similar)[0].normal_form\n",
    "print(sentence_tok)"
   ]
  },
  {
   "cell_type": "code",
   "execution_count": 41,
   "id": "9e96d891",
   "metadata": {},
   "outputs": [
    {
     "name": "stdout",
     "output_type": "stream",
     "text": [
      "Как же хорошо я навернула жареной картошки сегодня вечером\n"
     ]
    }
   ],
   "source": [
    "print(sentence)"
   ]
  },
  {
   "cell_type": "code",
   "execution_count": null,
   "id": "1d68531b",
   "metadata": {},
   "outputs": [],
   "source": []
  }
 ],
 "metadata": {
  "kernelspec": {
   "display_name": "Python 3 (ipykernel)",
   "language": "python",
   "name": "python3"
  },
  "language_info": {
   "codemirror_mode": {
    "name": "ipython",
    "version": 3
   },
   "file_extension": ".py",
   "mimetype": "text/x-python",
   "name": "python",
   "nbconvert_exporter": "python",
   "pygments_lexer": "ipython3",
   "version": "3.8.5"
  }
 },
 "nbformat": 4,
 "nbformat_minor": 5
}
